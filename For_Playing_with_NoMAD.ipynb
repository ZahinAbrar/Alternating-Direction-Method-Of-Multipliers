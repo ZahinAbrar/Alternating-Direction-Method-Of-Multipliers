{
  "nbformat": 4,
  "nbformat_minor": 0,
  "metadata": {
    "colab": {
      "provenance": [],
      "authorship_tag": "ABX9TyPs/wMsss2oSz9AVfQQixnw",
      "include_colab_link": true
    },
    "kernelspec": {
      "name": "python3",
      "display_name": "Python 3"
    },
    "language_info": {
      "name": "python"
    }
  },
  "cells": [
    {
      "cell_type": "markdown",
      "metadata": {
        "id": "view-in-github",
        "colab_type": "text"
      },
      "source": [
        "<a href=\"https://colab.research.google.com/github/ZahinAbrar/Alternating-Direction-Method-Of-Multipliers/blob/main/For_Playing_with_NoMAD.ipynb\" target=\"_parent\"><img src=\"https://colab.research.google.com/assets/colab-badge.svg\" alt=\"Open In Colab\"/></a>"
      ]
    },
    {
      "cell_type": "code",
      "execution_count": null,
      "metadata": {
        "colab": {
          "base_uri": "https://localhost:8080/"
        },
        "id": "EZ9-CMZbokRt",
        "outputId": "ecf4aab9-90e1-460c-f7fd-f47fcfda93a1"
      },
      "outputs": [
        {
          "output_type": "stream",
          "name": "stdout",
          "text": [
            "[[8 0 2]\n",
            " [1 5 6]\n",
            " [2 6 7]\n",
            " [4 6 8]\n",
            " [9 2 8]]\n"
          ]
        }
      ],
      "source": [
        "# importing numpy library\n",
        "import numpy as np  \n",
        "  \n",
        "# random is a function, doing random sampling in numpy.\n",
        "array = np.random.randint(10, size=(5,3))\n",
        "  \n",
        "# the array will be having 20 elements.\n",
        "print(array)"
      ]
    },
    {
      "cell_type": "code",
      "source": [
        "# importing numpy library\n",
        "import numpy as np  \n",
        "  \n",
        "# random is a function, doing random sampling in numpy.\n",
        "array = np.random.randint(10, size=(5,5))\n",
        "  \n",
        "# the array will be having 20 elements.\n",
        "print(array)\n",
        "# print(array[3,0])\n",
        "# print(array[0,0])\n",
        "# print(array[0,1])\n",
        "# print(array[1,1])\n",
        "# dis_12= np.divide (array[0,1], np.multiply(array[0,0], array[1,1]))\n",
        "# print(dis_12)\n",
        "print(np.zeros(shape=(5,5)))"
      ],
      "metadata": {
        "colab": {
          "base_uri": "https://localhost:8080/"
        },
        "id": "TA4qEBYc59RV",
        "outputId": "b06d7a0e-db0f-478b-8a8e-3046347389c7"
      },
      "execution_count": null,
      "outputs": [
        {
          "output_type": "stream",
          "name": "stdout",
          "text": [
            "[[0 9 1 3 3]\n",
            " [4 4 1 1 2]\n",
            " [4 6 0 3 6]\n",
            " [2 2 4 3 4]\n",
            " [4 4 6 3 1]]\n",
            "[[0. 0. 0. 0. 0.]\n",
            " [0. 0. 0. 0. 0.]\n",
            " [0. 0. 0. 0. 0.]\n",
            " [0. 0. 0. 0. 0.]\n",
            " [0. 0. 0. 0. 0.]]\n"
          ]
        }
      ]
    },
    {
      "cell_type": "code",
      "source": [
        "# importing numpy library\n",
        "import numpy as np  \n",
        "  \n",
        "# random is a function, doing random sampling in numpy.\n",
        "array = np.random.randint(10, size=(5,5))\n",
        "print(array)\n",
        "row_i=array[3,:]\n",
        "leaves=[4];\n",
        "print(row_i)\n",
        "a=np.count_nonzero(row_i)\n",
        "b=np.nonzero(a)\n",
        "print(b)\n",
        "# leaves.append(a)\n",
        "# print(leaves)\n",
        "# print(a)\n"
      ],
      "metadata": {
        "colab": {
          "base_uri": "https://localhost:8080/"
        },
        "id": "g0G6RJ4eEu2F",
        "outputId": "60d28285-d6db-4f98-a594-6637aadebd61"
      },
      "execution_count": null,
      "outputs": [
        {
          "output_type": "stream",
          "name": "stdout",
          "text": [
            "[[3 9 2 2 7]\n",
            " [6 2 8 6 0]\n",
            " [1 0 9 5 2]\n",
            " [8 1 3 7 3]\n",
            " [1 9 4 9 6]]\n",
            "[8 1 3 7 3]\n",
            "(array([0]),)\n"
          ]
        }
      ]
    },
    {
      "cell_type": "code",
      "source": [
        "x = np.array([[3, 0, 0], [0, 4, 0], [5, 6, 0]])\n",
        "print(x[2,:])\n",
        "print(np.nonzero(x[2,:]))\n"
      ],
      "metadata": {
        "colab": {
          "base_uri": "https://localhost:8080/"
        },
        "id": "JN3Xq93zL1tE",
        "outputId": "00ffc9cf-bd72-4cd8-db69-d1e38096b2f1"
      },
      "execution_count": null,
      "outputs": [
        {
          "output_type": "stream",
          "name": "stdout",
          "text": [
            "[5 6 0]\n",
            "(array([0, 1]),)\n"
          ]
        }
      ]
    },
    {
      "cell_type": "code",
      "source": [
        "x= ([1], [1,2,3])\n",
        "y=[2], [1,2,3,3]\n",
        "z=x,y\n",
        "print(z)\n"
      ],
      "metadata": {
        "colab": {
          "base_uri": "https://localhost:8080/"
        },
        "id": "75zPruCszOBq",
        "outputId": "a7f50664-90d4-479c-9dad-7ac2c3c8fc79"
      },
      "execution_count": null,
      "outputs": [
        {
          "output_type": "stream",
          "name": "stdout",
          "text": [
            "(([1], [1, 2, 3]), ([2], [1, 2, 3, 3]))\n"
          ]
        }
      ]
    },
    {
      "cell_type": "code",
      "source": [
        "import numpy as np\n",
        "x= ([1], [1,2,3]), ([2], [1,2,3,3])\n",
        "# print(x)\n",
        "# print(len(x))\n",
        "listvals = []\n",
        "for i in range(0,len(x)):\n",
        "  listvals.append(x[i])\n",
        "print(listvals)\n",
        "print(listvals[1])\n"
      ],
      "metadata": {
        "colab": {
          "base_uri": "https://localhost:8080/"
        },
        "id": "YnCnEFRJH4Mc",
        "outputId": "5c5d575f-f7cc-4a51-cfed-19a0fc6496ea"
      },
      "execution_count": null,
      "outputs": [
        {
          "output_type": "stream",
          "name": "stdout",
          "text": [
            "[([1], [1, 2, 3]), ([2], [1, 2, 3, 3])]\n",
            "([2], [1, 2, 3, 3])\n"
          ]
        }
      ]
    },
    {
      "cell_type": "code",
      "source": [
        "import math\n",
        "print(math.comb(5, 3))"
      ],
      "metadata": {
        "colab": {
          "base_uri": "https://localhost:8080/"
        },
        "id": "-drYvN4LkyrB",
        "outputId": "815bb7cb-3765-46ea-fd6e-836c18f4c97d"
      },
      "execution_count": null,
      "outputs": [
        {
          "output_type": "stream",
          "name": "stdout",
          "text": [
            "10\n"
          ]
        }
      ]
    },
    {
      "cell_type": "markdown",
      "source": [],
      "metadata": {
        "id": "k4zO_yf9lhCX"
      }
    },
    {
      "cell_type": "code",
      "source": [
        "import itertools\n",
        "a_list= [1, 2, 3, 4];\n",
        "all_combinations = []\n",
        "for r in range(len(a_list) + 1):\n",
        "  combinations_object = itertools.combinations(a_list, 3)\n",
        "  combinations_list = list(combinations_object)\n",
        "  # all_combinations += combinations_list\n",
        "\n",
        "print(combinations_list)\n",
        "\n",
        "\n",
        "\n",
        "\n"
      ],
      "metadata": {
        "colab": {
          "base_uri": "https://localhost:8080/"
        },
        "id": "HjAyJciPlh9z",
        "outputId": "3cd7a46e-fc71-4170-d982-994498ef6bdd"
      },
      "execution_count": null,
      "outputs": [
        {
          "output_type": "stream",
          "name": "stdout",
          "text": [
            "[(1, 2, 3), (1, 2, 4), (1, 3, 4), (2, 3, 4)]\n",
            "(1, 2, 3)\n"
          ]
        }
      ]
    },
    {
      "cell_type": "code",
      "source": [
        "## code for full distance list or distance list look up table ## \n",
        "\n",
        "a=(1,2,3)\n",
        "for r in range(len(a) + 1):\n",
        "  combinations_object = itertools.combinations(a, 2)\n",
        "  combinations_list = list(combinations_object)\n",
        "  # all_combinations += combinations_list\n",
        "\n",
        "print(combinations_list)\n",
        "print(len(combinations_list))\n",
        "\n",
        "distantce_list=[]\n",
        "for i in range(0,len(combinations_list)):\n",
        "  listvals=[[],[]]\n",
        "  listvals[0].append(combinations_list[i])\n",
        "  listvals[1].append(12+i) # this i has been added for testing \n",
        "  distantce_list.append(listvals)\n",
        "print(listvals)\n",
        "print(distantce_list)\n",
        "\n",
        "# k=2,l=3;\n",
        "# for i in range(0,len(distantce_list)):\n",
        "#   if i[0]==k & i[1]==l:\n",
        "\n",
        "print(listvals)\n",
        "print(distantce_list)\n",
        "\n",
        "\n",
        "\n"
      ],
      "metadata": {
        "colab": {
          "base_uri": "https://localhost:8080/"
        },
        "id": "Ay4oovpbydQ6",
        "outputId": "7fc9880b-cb1b-4314-fea5-3632e0a4caea"
      },
      "execution_count": null,
      "outputs": [
        {
          "output_type": "stream",
          "name": "stdout",
          "text": [
            "[(1, 2), (1, 3), (2, 3)]\n",
            "3\n",
            "[[(2, 3)], [14]]\n",
            "[[[(1, 2)], [12]], [[(1, 3)], [13]], [[(2, 3)], [14]]]\n",
            "[[(2, 3)], [14]]\n",
            "[[[(1, 2)], [12]], [[(1, 3)], [13]], [[(2, 3)], [14]]]\n"
          ]
        }
      ]
    },
    {
      "cell_type": "code",
      "source": [
        "## distance compuation between ancestor and all the vertices in a triplet\n",
        "\n",
        "def Triple_Anc_Dis(V):\n",
        "  triple_anc_dist=[];\n",
        "  for i in range(0,len(V)):\n",
        "      listvals=[[],[]]\n",
        "      listvals[0].append(V[i])\n",
        "      listvals[1].append(12 + V[i]) # this i has been added for testing \n",
        "      triple_anc_dist.append(listvals)\n",
        "  print(triple_anc_dist)\n",
        "\n",
        "Triple_Anc_Dis([8,2,3])\n",
        "  "
      ],
      "metadata": {
        "colab": {
          "base_uri": "https://localhost:8080/"
        },
        "id": "lqb368OYBid0",
        "outputId": "be83956a-f5f8-41c8-8498-1c4554d67ec9"
      },
      "execution_count": null,
      "outputs": [
        {
          "output_type": "stream",
          "name": "stdout",
          "text": [
            "[[[8], [20]], [[2], [14]], [[3], [15]]]\n"
          ]
        }
      ]
    },
    {
      "cell_type": "code",
      "source": [
        "## Need to think about it more ##\n",
        "\n",
        "def Triple_Anc_Dis(V):\n",
        "  dist_dict= {V[0]: [12], V[1]: [14], V[2]: [17]} # complete the ramining in the spare time\n",
        "  print(dist_dict[V[0]])\n",
        "  print(dist_dict[V[1]])\n",
        "  print(dist_dict[V[2]])\n",
        "\n",
        "# myDict=\n",
        "Triple_Anc_Dis([5,6,7]);\n",
        "# print(myDict[5])\n",
        "\n"
      ],
      "metadata": {
        "colab": {
          "base_uri": "https://localhost:8080/"
        },
        "id": "h6yS_DiASlF8",
        "outputId": "1504f783-8dda-4b87-fb14-7c48164791ac"
      },
      "execution_count": null,
      "outputs": [
        {
          "output_type": "stream",
          "name": "stdout",
          "text": [
            "[12]\n",
            "[14]\n",
            "[17]\n"
          ]
        }
      ]
    },
    {
      "cell_type": "code",
      "source": [
        "myDict = {1: [1, 2, 3, 4, 5],\n",
        "          2: [2, 3, 4, 5, 6],\n",
        "          3: [3, 4, 5, 6, 7]}\n",
        "print(myDict[3])"
      ],
      "metadata": {
        "colab": {
          "base_uri": "https://localhost:8080/"
        },
        "id": "jbODRB9MWR-z",
        "outputId": "76dcdc73-232d-40d2-8e5e-b76275bc4fd2"
      },
      "execution_count": null,
      "outputs": [
        {
          "output_type": "stream",
          "name": "stdout",
          "text": [
            "[3, 4, 5, 6, 7]\n"
          ]
        }
      ]
    },
    {
      "cell_type": "code",
      "source": [
        "list(itertools.combinations(a_list, 2))"
      ],
      "metadata": {
        "colab": {
          "base_uri": "https://localhost:8080/"
        },
        "id": "mZcyqusgmrCW",
        "outputId": "01d039a6-3844-4c66-9faf-6826089e76bb"
      },
      "execution_count": null,
      "outputs": [
        {
          "output_type": "execute_result",
          "data": {
            "text/plain": [
              "[(1, 2), (1, 3), (1, 4), (2, 3), (2, 4), (3, 4)]"
            ]
          },
          "metadata": {},
          "execution_count": 21
        }
      ]
    },
    {
      "cell_type": "code",
      "source": [
        "list_of_numbers = list(range(1, 6))\n",
        "\n",
        "print(list_of_numbers)  \n"
      ],
      "metadata": {
        "colab": {
          "base_uri": "https://localhost:8080/"
        },
        "id": "5Co7AFyRn0I_",
        "outputId": "3ccad731-2b9c-4e9d-9bcb-3d36db2623f9"
      },
      "execution_count": null,
      "outputs": [
        {
          "output_type": "stream",
          "name": "stdout",
          "text": [
            "[1, 2, 3, 4, 5]\n"
          ]
        }
      ]
    },
    {
      "cell_type": "code",
      "source": [
        "import numpy as np  \n",
        "d=5;  \n",
        "# random is a function, doing random sampling in numpy.\n",
        "array = np.random.randint(10, size=(d,d))\n",
        "print(np.linalg.inv(array))\n",
        "print(array)\n",
        "print(array[0,2])\n",
        "array_try= np.zeros(shape=(d,d))\n",
        "for i in range(0,d):\n",
        "  for j in range(0,d):\n",
        "    if i ==j:\n",
        "      array_try[i,j]=0\n",
        "    else:\n",
        "      array_try[i,j]=  np.divide (array[i,j], np.sqrt(np.multiply(array[i,i], array[j,j]))) \n",
        "\n",
        "\n",
        "\n"
      ],
      "metadata": {
        "colab": {
          "base_uri": "https://localhost:8080/"
        },
        "id": "aMktG_hp_g4l",
        "outputId": "bf268dd6-05f3-4dc9-e806-ed69b23a1c7a"
      },
      "execution_count": null,
      "outputs": [
        {
          "output_type": "stream",
          "name": "stdout",
          "text": [
            "[[-0.08940719  0.10398445 -0.4606414   0.44606414 -0.16520894]\n",
            " [ 0.05344995 -0.18172983  0.25364431 -0.12536443  0.12050534]\n",
            " [-0.0202138   0.18872692  0.03498542 -0.00349854 -0.17648202]\n",
            " [-0.06511176  0.02137998  0.3819242  -0.33819242  0.16229349]\n",
            " [ 0.14480078 -0.09232264 -0.05830904  0.0058309   0.07191448]]\n",
            "[[2 2 5 2 9]\n",
            " [6 0 5 8 8]\n",
            " [5 7 5 4 3]\n",
            " [9 8 5 6 6]\n",
            " [7 1 0 9 8]]\n",
            "5\n"
          ]
        },
        {
          "output_type": "stream",
          "name": "stderr",
          "text": [
            "<ipython-input-42-5d538644a70e>:14: RuntimeWarning: divide by zero encountered in true_divide\n",
            "  array_try[i,j]=  np.divide (array[i,j], np.sqrt(np.multiply(array[i,i], array[j,j])))\n"
          ]
        }
      ]
    },
    {
      "cell_type": "code",
      "source": [
        "def Triple_Anc_Dis(V):\n",
        "  dist_dict= {V[0]: [12], V[1]: [14], V[2]: [17]} # correct this line in the spare time\n",
        "  print(dist_dict[V[0]])\n",
        "  print(dist_dict[V[1]])\n",
        "  print(dist_dict[V[2]])\n",
        "\n",
        "Triple_Anc_Dis([4,5,6])"
      ],
      "metadata": {
        "colab": {
          "base_uri": "https://localhost:8080/"
        },
        "id": "W1q6_GsHfBf2",
        "outputId": "b689f338-293f-4f15-f296-e789547e127d"
      },
      "execution_count": null,
      "outputs": [
        {
          "output_type": "stream",
          "name": "stdout",
          "text": [
            "[12]\n",
            "[14]\n",
            "[17]\n"
          ]
        }
      ]
    },
    {
      "cell_type": "code",
      "source": [
        "import numpy as np\n",
        "def Triple_Anc_Dis(V):\n",
        "  dist_dict= {V[0]: [12], V[1]: [14], V[2]: [17]} # correct this line in the spare time\n",
        "  return dist_dict\n",
        "W=[4,5,6]\n",
        "dist= Triple_Anc_Dis(W);\n",
        "# W_int=[int(x) for x in W]\n",
        "a=dist[W_int[0]]\n",
        "b=dist[W_int[1]]\n",
        "# W_a=[int(x) for x in a]\n",
        "# W_b=[int(x) for x in b]\n",
        "print(a)\n",
        "print(b)\n",
        "W_a=[1]; W_b=[2]\n",
        "print(np.add(dist[W_int[0]],dist[W_int[1]]))\n"
      ],
      "metadata": {
        "colab": {
          "base_uri": "https://localhost:8080/"
        },
        "id": "2lGnSFudf-2W",
        "outputId": "9e0d2791-d19c-4789-d9c2-502690d16360"
      },
      "execution_count": null,
      "outputs": [
        {
          "output_type": "stream",
          "name": "stdout",
          "text": [
            "[12]\n",
            "[14]\n",
            "[26]\n"
          ]
        }
      ]
    },
    {
      "cell_type": "code",
      "source": [],
      "metadata": {
        "id": "8qidlipwf8Ws"
      },
      "execution_count": null,
      "outputs": []
    },
    {
      "cell_type": "code",
      "source": [
        "import itertools\n",
        "import numpy as np\n",
        "def Pairs_of_Triple(V):\n",
        "  for r in range(len(V) + 1):\n",
        "    combinations_object = itertools.combinations(V,2)\n",
        "    vtx_pairs = list(combinations_object)\n",
        "  return vtx_pairs\n",
        "  # print(vtx_pairs)\n",
        "\n",
        "Pairs_of_Triple([4,5,6])\n",
        "print(Pairs_of_Triple([4,5,6])[0])\n",
        "print(np.sum(Pairs_of_Triple([4,5,6])[0]))"
      ],
      "metadata": {
        "id": "OFhS1LJWet-m",
        "colab": {
          "base_uri": "https://localhost:8080/"
        },
        "outputId": "476cc325-00e1-4cd5-8f97-9d53ee839969"
      },
      "execution_count": null,
      "outputs": [
        {
          "output_type": "stream",
          "name": "stdout",
          "text": [
            "(4, 5)\n",
            "9\n"
          ]
        }
      ]
    },
    {
      "cell_type": "code",
      "source": [
        "def TIA_test(U,V):\n",
        "  U_Anc_dist= Triple_Anc_Dis(U);\n",
        "  V_Anc_dist= Triple_Anc_Dis(V);\n",
        "  V_pairs=Pairs_of_Triple(V)\n",
        "  tot_cnt=0;\n",
        "  for i in U:\n",
        "    i_cnt=0;\n",
        "    for j in V_pairs:\n",
        "      j_cnt=0;\n",
        "      if U_Anc_dist[U[1]]==np.sum(V_pairs[j]):   # another option np.add(V_pairs[j][0],V_pairs[j][1])\n",
        "        j_cnt=j_cnt+1\n",
        "    if J_cnt >1:\n",
        "      i_cnt=i_cnt+1\n",
        "      tot_cnt=tot_cnt+1\n",
        "  if tot_cnt ==3:\n",
        "    #U,V are star triplets\n",
        "\n",
        "\n",
        "\n"
      ],
      "metadata": {
        "id": "eN41X7CWem9-"
      },
      "execution_count": null,
      "outputs": []
    },
    {
      "cell_type": "code",
      "source": [
        "import numpy as np\n",
        "# K = [0.1 0 0.05 0 0 0; 0 0.1 0.05 0 0 0; 0.05 0.05 .1 0.05 0 0; 0 0 0.05 1 0.05 0.05; 0 0 0 0.05 .075 .06; 0 0 0 .05 .06 .075];\n",
        "A=np.matrix([[1, 2], [3, 4]]);\n",
        "B=np.matrix([[2, 3], [4, 5]]);\n",
        "C=np.matrix([[2.2, 3], [4, 5], [6,7]]);\n",
        "K=np.matrix([[0.1, 0, 0.05, 0, 0, 0], [0, 0.1, 0.05, 0, 0, 0], [0.05, 0.05, .1, 0.05, 0, 0],[0, 0, 0.05, 1, 0.05, 0.05], [0, 0, 0, 0.05, .075, .06],[0, 0, 0, .05, .06, .075]]);\n",
        "# K=np.matrix([[0.1, 0, 0.05, 0, 0, 0],,[0, 0, 0, 0.05, .075, .06] [0, 0, 0, .05, .06, .075]]);\n",
        "print(K)\n"
      ],
      "metadata": {
        "colab": {
          "base_uri": "https://localhost:8080/"
        },
        "id": "-lUq7aPZUOln",
        "outputId": "ec8a2b0f-49e2-4ef7-be96-185379f9fcdc"
      },
      "execution_count": null,
      "outputs": [
        {
          "output_type": "stream",
          "name": "stdout",
          "text": [
            "[[0.1   0.    0.05  0.    0.    0.   ]\n",
            " [0.    0.1   0.05  0.    0.    0.   ]\n",
            " [0.05  0.05  0.1   0.05  0.    0.   ]\n",
            " [0.    0.    0.05  1.    0.05  0.05 ]\n",
            " [0.    0.    0.    0.05  0.075 0.06 ]\n",
            " [0.    0.    0.    0.05  0.06  0.075]]\n"
          ]
        }
      ]
    },
    {
      "cell_type": "code",
      "source": [
        "from numpy.linalg import inv\n",
        "d=np.random.randint(0.5, high=30, size=6, dtype=int)\n",
        "D=np.diag(d)\n",
        "print(D)\n",
        "c=np.linalg.inv(K)\n",
        "print(c)\n"
      ],
      "metadata": {
        "colab": {
          "base_uri": "https://localhost:8080/"
        },
        "id": "g8fxk1BmQWpx",
        "outputId": "9e2655d8-899a-4095-baac-f9a8fcceb054"
      },
      "execution_count": null,
      "outputs": [
        {
          "output_type": "stream",
          "name": "stdout",
          "text": [
            "[[24  0  0  0  0  0]\n",
            " [ 0 20  0  0  0  0]\n",
            " [ 0  0 18  0  0  0]\n",
            " [ 0  0  0 12  0  0]\n",
            " [ 0  0  0  0  3  0]\n",
            " [ 0  0  0  0  0 12]]\n",
            "[[ 15.27383367   5.27383367 -10.54766734   0.54766734  -0.20283976\n",
            "   -0.20283976]\n",
            " [  5.27383367  15.27383367 -10.54766734   0.54766734  -0.20283976\n",
            "   -0.20283976]\n",
            " [-10.54766734 -10.54766734  21.09533469  -1.09533469   0.40567951\n",
            "    0.40567951]\n",
            " [  0.54766734   0.54766734  -1.09533469   1.09533469  -0.40567951\n",
            "   -0.40567951]\n",
            " [ -0.20283976  -0.20283976   0.40567951  -0.40567951  37.18728871\n",
            "  -29.47937796]\n",
            " [ -0.20283976  -0.20283976   0.40567951  -0.40567951 -29.47937796\n",
            "   37.18728871]]\n"
          ]
        }
      ]
    }
  ]
}